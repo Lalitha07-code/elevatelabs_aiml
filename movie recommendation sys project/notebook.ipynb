{
 "cells": [
  {
   "cell_type": "markdown",
   "id": "a424534d",
   "metadata": {},
   "source": [
    "# Movie Recommendation System\n",
    "\n",
    "This notebook demonstrates an end-to-end recommender using MovieLens (`ml-latest-small`).\n",
    "\n",
    "Sections:\n",
    "1. Imports\n",
    "2. Load data\n",
    "3. Preprocessing\n",
    "4. Content-based (TF-IDF on genres)\n",
    "5. Collaborative (TruncatedSVD on user-item)\n",
    "6. Hybrid recommendations\n",
    "7. Evaluation (RMSE, Precision@K)\n",
    "8. Optional sentiment filtering\n"
   ]
  },
  {
   "cell_type": "code",
   "execution_count": null,
   "id": "1e13dd02",
   "metadata": {},
   "outputs": [],
   "source": [
    "# 1) Imports\n",
    "import pandas as pd\n",
    "import numpy as np\n",
    "from sklearn.feature_extraction.text import TfidfVectorizer\n",
    "from sklearn.decomposition import TruncatedSVD\n",
    "from sklearn.metrics.pairwise import cosine_similarity\n",
    "from sklearn.model_selection import train_test_split\n",
    "from sklearn.metrics import mean_squared_error\n",
    "import math\n"
   ]
  },
  {
   "cell_type": "code",
   "execution_count": null,
   "id": "cf85244b",
   "metadata": {},
   "outputs": [],
   "source": [
    "# 2) Load data\n",
    "movies = pd.read_csv('data/movies.csv')\n",
    "ratings = pd.read_csv('data/ratings.csv')\n",
    "print('movies', movies.shape)\n",
    "print('ratings', ratings.shape)\n",
    "movies.head()\n"
   ]
  },
  {
   "cell_type": "code",
   "execution_count": null,
   "id": "d3e264c3",
   "metadata": {},
   "outputs": [],
   "source": [
    "# 3) Preprocessing\n",
    "movies['genres'] = movies['genres'].fillna('')\n",
    "movies['genres_clean'] = movies['genres'].str.replace('|', ' ')\n",
    "ratings.head()\n"
   ]
  },
  {
   "cell_type": "code",
   "execution_count": null,
   "id": "c33bb6d0",
   "metadata": {},
   "outputs": [],
   "source": [
    "# 4) Content-based: TF-IDF on genres\n",
    "vectorizer = TfidfVectorizer(stop_words='english')\n",
    "genre_tfidf = vectorizer.fit_transform(movies['genres_clean'])\n",
    "content_sim = cosine_similarity(genre_tfidf, genre_tfidf)\n",
    "movie_idx = pd.Series(movies.index, index=movies['movieId'])\n",
    "print('Content similarity matrix shape:', content_sim.shape)\n"
   ]
  },
  {
   "cell_type": "code",
   "execution_count": null,
   "id": "ff3bc0ed",
   "metadata": {},
   "outputs": [],
   "source": [
    "# 5) Collaborative: build user-item matrix and get item embeddings via TruncatedSVD\n",
    "user_item = ratings.pivot_table(index='userId', columns='movieId', values='rating').fillna(0)\n",
    "print('User-item shape:', user_item.shape)\n",
    "\n",
    "svd = TruncatedSVD(n_components=50, random_state=42)\n",
    "item_factors = svd.fit_transform(user_item.T)\n",
    "item_movieIds = user_item.columns.tolist()\n",
    "item_sim_latent = cosine_similarity(item_factors)\n",
    "print('Latent item similarity shape:', item_sim_latent.shape)\n"
   ]
  },
  {
   "cell_type": "code",
   "execution_count": null,
   "id": "ed8e2328",
   "metadata": {},
   "outputs": [],
   "source": [
    "# 6) Helper functions\n",
    "\n",
    "def get_content_recs(movie_title, top_n=10):\n",
    "    matches = movies[movies['title'].str.contains(movie_title, case=False, regex=False)]\n",
    "    if matches.empty:\n",
    "        return pd.DataFrame()\n",
    "    mid = matches.iloc[0]['movieId']\n",
    "    idx = movie_idx[mid]\n",
    "    sim_scores = list(enumerate(content_sim[idx]))\n",
    "    sim_scores = sorted(sim_scores, key=lambda x: x[1], reverse=True)\n",
    "    top_indices = [i for i, score in sim_scores[1: top_n+1]]\n",
    "    return movies.iloc[top_indices][['movieId','title','genres']]\n",
    "\n",
    "\n",
    "def recommend_hybrid(fav_movieIds, top_n=10):\n",
    "    scores = np.zeros(item_sim_latent.shape[0])\n",
    "    for mid in fav_movieIds:\n",
    "        if mid in item_movieIds:\n",
    "            scores += item_sim_latent[item_movieIds.index(mid)]\n",
    "    for mid in fav_movieIds:\n",
    "        if mid in item_movieIds:\n",
    "            scores[item_movieIds.index(mid)] = -np.inf\n",
    "    top_cols = np.argsort(scores)[-top_n:][::-1]\n",
    "    recs = [item_movieIds[c] for c in top_cols]\n",
    "    return movies[movies['movieId'].isin(recs)][['movieId','title','genres']]\n"
   ]
  },
  {
   "cell_type": "code",
   "execution_count": null,
   "id": "c132fb69",
   "metadata": {},
   "outputs": [],
   "source": [
    "# Examples\n",
    "print('Content-based similar to Toy Story:')\n",
    "print(get_content_recs('Toy Story', top_n=5))\n",
    "\n",
    "print('\\nHybrid example (use movieIds):')\n",
    "print(recommend_hybrid([1, 3114], top_n=5))\n"
   ]
  },
  {
   "cell_type": "code",
   "execution_count": null,
   "id": "8cc51398",
   "metadata": {},
   "outputs": [],
   "source": [
    "# 7) Evaluation: simple RMSE on test set for a baseline matrix-factorization style prediction\n",
    "# We'll do a simple SVD-based prediction using TruncatedSVD components\n",
    "\n",
    "# Build train/test split\n",
    "train, test = train_test_split(ratings, test_size=0.2, random_state=42)\n",
    "train_ui = train.pivot_table(index='userId', columns='movieId', values='rating').fillna(0)\n",
    "svd2 = TruncatedSVD(n_components=20, random_state=42)\n",
    "item_factors2 = svd2.fit_transform(train_ui.T)\n",
    "# compute predicted ratings by projecting users onto item latent space (approx)\n",
    "# This is a simplified approach for demonstration only\n",
    "user_factors_approx = np.linalg.pinv(item_factors2).dot(train_ui.T)\n",
    "\n",
    "# A helper to predict a rating (approx)\n",
    "def predict_rating(userId, movieId):\n",
    "    try:\n",
    "        colidx = list(train_ui.columns).index(movieId)\n",
    "        # user vector: multiply pseudo-inverse to estimate user latent vector\n",
    "        user_idx = list(train_ui.index).index(userId)\n",
    "        user_vec = user_factors_approx[:, user_idx]\n",
    "        pred = user_vec.dot(item_factors2[colidx])\n",
    "        return pred\n",
    "    except Exception:\n",
    "        return np.nan\n",
    "\n",
    "# Apply on test (small sample to save time)\n",
    "sample = test.sample(frac=0.2, random_state=42)\n",
    "preds = []\n",
    "truths = []\n",
    "for _, row in sample.iterrows():\n",
    "    p = predict_rating(row['userId'], row['movieId'])\n",
    "    if not np.isnan(p):\n",
    "        preds.append(p)\n",
    "        truths.append(row['rating'])\n",
    "\n",
    "if preds:\n",
    "    rmse = math.sqrt(mean_squared_error(truths, preds))\n",
    "    print('Approx RMSE on sample:', rmse)\n",
    "else:\n",
    "    print('No predictions could be made on the sample (cold-starts).')\n"
   ]
  },
  {
   "cell_type": "markdown",
   "id": "6e610479",
   "metadata": {},
   "source": [
    "## 8) Optional: Sentiment-based filtering\n",
    "\n",
    "If you have external reviews or tags, use a sentiment analyzer (VADER) to compute sentiment scores per movie and filter recommendations to only show movies with non-negative sentiment. MovieLens `ml-latest-small` doesn't include free-text reviews, so you'd need external sources (OMDb/TMDb)."
   ]
  }
 ],
 "metadata": {},
 "nbformat": 4,
 "nbformat_minor": 5
}
